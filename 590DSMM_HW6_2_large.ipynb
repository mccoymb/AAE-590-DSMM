{
  "nbformat": 4,
  "nbformat_minor": 0,
  "metadata": {
    "colab": {
      "provenance": [],
      "authorship_tag": "ABX9TyO/k466ugr0ZqsyBiEsxGOP",
      "include_colab_link": true
    },
    "kernelspec": {
      "name": "python3",
      "display_name": "Python 3"
    },
    "language_info": {
      "name": "python"
    }
  },
  "cells": [
    {
      "cell_type": "markdown",
      "metadata": {
        "id": "view-in-github",
        "colab_type": "text"
      },
      "source": [
        "<a href=\"https://colab.research.google.com/github/mccoymb/AAE-590-DSMM/blob/main/590DSMM_HW6_2_large.ipynb\" target=\"_parent\"><img src=\"https://colab.research.google.com/assets/colab-badge.svg\" alt=\"Open In Colab\"/></a>"
      ]
    },
    {
      "cell_type": "code",
      "execution_count": 1,
      "metadata": {
        "colab": {
          "base_uri": "https://localhost:8080/"
        },
        "id": "JUpTtFLG5sni",
        "outputId": "a9f88bc6-d9fd-45a8-9168-1d691824c4b2"
      },
      "outputs": [
        {
          "output_type": "stream",
          "name": "stdout",
          "text": [
            "Mounted at /content/drive\n"
          ]
        }
      ],
      "source": [
        "from google.colab import drive\n",
        "drive.mount(\"/content/drive\")"
      ]
    },
    {
      "cell_type": "code",
      "source": [
        "import numpy as np\n",
        "\n",
        "# Load using numpy.load() first to inspect contents\n",
        "data = np.load('/content/drive/My Drive/590TrainingData/train.npz')\n",
        "\n",
        "# Print stored variable names\n",
        "print(\"Keys in npz file:\", data.files)\n",
        "# Load dataset\n",
        "input_raw_data = data['input_raw_data']  # Shape: (200000, 1, 64, 64)"
      ],
      "metadata": {
        "colab": {
          "base_uri": "https://localhost:8080/"
        },
        "id": "JBFe-GKc54eR",
        "outputId": "2ee728d0-183d-4cfc-a4fb-2fdbe38f2373"
      },
      "execution_count": 2,
      "outputs": [
        {
          "output_type": "stream",
          "name": "stdout",
          "text": [
            "Keys in npz file: ['clips', 'dims', 'input_raw_data']\n"
          ]
        }
      ]
    },
    {
      "cell_type": "code",
      "source": [
        "import numpy as np\n",
        "import cv2\n",
        "import pandas as pd\n",
        "from sklearn.linear_model import Ridge, Lasso\n",
        "from sklearn.model_selection import cross_val_score, KFold\n",
        "from sklearn.metrics import r2_score, mean_squared_error\n",
        "from sklearn.model_selection import cross_val_score\n",
        "# Time sequence (repeats for each sequence)\n",
        "time_values = np.array([25000, 28000, 31000, 35000, 37500, 40000, 45000, 50000, 75000, 108000,\n",
        "                        180000, 220000, 250000, 270000, 300000, 360000, 430000, 540000, 900000, 1080000])"
      ],
      "metadata": {
        "id": "s797iQBLxcVh"
      },
      "execution_count": 21,
      "outputs": []
    },
    {
      "cell_type": "code",
      "source": [
        "# Function to compute grain size\n",
        "def compute_grain_size(image):\n",
        "    _, binary = cv2.threshold((image * 255).astype(np.uint8), 0, 255, cv2.THRESH_BINARY + cv2.THRESH_OTSU)\n",
        "    contours, _ = cv2.findContours(binary, cv2.RETR_TREE, cv2.CHAIN_APPROX_SIMPLE)\n",
        "    areas = [cv2.contourArea(cnt) for cnt in contours if cv2.contourArea(cnt) > 5]\n",
        "    return np.mean(areas) if areas else 1e-6\n",
        "\n",
        "# Prepare results list\n",
        "results = []\n",
        "\n",
        "# Run for both 100 and 500 sequences\n",
        "for num_sequences in [100, 500, 1000, 10000]:\n",
        "    subset_raw_data = input_raw_data[:num_sequences * 20]\n",
        "    all_grain_sizes = np.zeros((num_sequences, 20))\n",
        "\n",
        "    for seq in range(num_sequences):\n",
        "        imgs = subset_raw_data[seq * 20:(seq + 1) * 20, 0, :, :]\n",
        "        grain_sizes = np.array([compute_grain_size(img) for img in imgs])\n",
        "        first = max(grain_sizes[0], 1)\n",
        "        all_grain_sizes[seq] = grain_sizes / first\n",
        "\n",
        "    X = np.tile(log_time, num_sequences).reshape(-1, 1)\n",
        "    y = all_grain_sizes.flatten()\n",
        "\n",
        "    # IQR outlier removal\n",
        "    Q1, Q3 = np.percentile(y, [25, 75])\n",
        "    IQR = Q3 - Q1\n",
        "    mask = (y >= Q1 - 1.5 * IQR) & (y <= Q3 + 1.5 * IQR)\n",
        "    X_filtered = X[mask]\n",
        "    y_filtered = y[mask]\n",
        "\n",
        "    # Models\n",
        "    models = {\n",
        "        \"Ridge\": Ridge(alpha=1.0),\n",
        "        \"Lasso\": Lasso(alpha=0.001)\n",
        "    }\n",
        "\n",
        "    for name, model in models.items():\n",
        "        model.fit(X_filtered, y_filtered)\n",
        "        y_pred = model.predict(X_filtered)\n",
        "\n",
        "        r2 = r2_score(y_filtered, y_pred)\n",
        "        n = len(y_filtered)\n",
        "        p = 1  # one predictor\n",
        "        adj_r2 = 1 - (1 - r2) * (n - 1) / (n - p - 1)\n",
        "        mse = mean_squared_error(y_filtered, y_pred)\n",
        "        cv_r2 = np.mean(cross_val_score(model, X_filtered, y_filtered, cv=5, scoring='r2'))\n",
        "\n",
        "        results.append({\n",
        "            \"Model\": name,\n",
        "            \"Sequences\": num_sequences,\n",
        "            \"R²\": round(r2, 4),\n",
        "            \"Adj. R²\": round(adj_r2, 4),\n",
        "            \"MSE\": round(mse, 6),\n",
        "            \"5-Fold CV R²\": round(cv_r2, 4)\n",
        "        })\n",
        "\n",
        "# Save to CSV\n",
        "results_df = pd.DataFrame(results)\n",
        "csv_path = \"/content/ridge_lasso_bigresults.csv\"\n",
        "results_df.to_csv(csv_path, index=False)\n",
        "print(results_df)"
      ],
      "metadata": {
        "colab": {
          "base_uri": "https://localhost:8080/"
        },
        "id": "etu53yTj6F3g",
        "outputId": "2947ac80-f855-40c8-96e5-ffcaa5ea69a6"
      },
      "execution_count": 23,
      "outputs": [
        {
          "output_type": "stream",
          "name": "stdout",
          "text": [
            "   Model  Sequences      R²  Adj. R²       MSE  5-Fold CV R²\n",
            "0  Ridge        100  0.3639   0.3635  0.050353        0.3410\n",
            "1  Lasso        100  0.3639   0.3635  0.050354        0.3410\n",
            "2  Ridge        500  0.2817   0.2816  0.092415        0.2727\n",
            "3  Lasso        500  0.2817   0.2816  0.092416        0.2727\n",
            "4  Ridge       1000  0.2746   0.2745  0.113206        0.2534\n",
            "5  Lasso       1000  0.2746   0.2745  0.113206        0.2534\n",
            "6  Ridge      10000  0.2741   0.2741  0.118927        0.2740\n",
            "7  Lasso      10000  0.2741   0.2741  0.118928        0.2740\n"
          ]
        }
      ]
    }
  ]
}